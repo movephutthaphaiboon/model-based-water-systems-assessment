{
 "cells": [
  {
   "cell_type": "markdown",
   "id": "51a72755-a6fe-4c56-8cdb-da51569ac6aa",
   "metadata": {},
   "source": [
    "# An introduction to Groundwater Modeling\n",
    "## Part 2. Two-dimensional flow"
   ]
  },
  {
   "cell_type": "markdown",
   "id": "f42204ce-ac6f-4ed8-bb60-4c487bc09bc9",
   "metadata": {},
   "source": [
    "<img src=\"figs/part_of_cover_bakker_post.png\" width=\"800px\"> "
   ]
  },
  {
   "cell_type": "code",
   "execution_count": null,
   "id": "6f418e14-96a7-4120-977c-13846bc8bcab",
   "metadata": {},
   "outputs": [],
   "source": [
    "# Before starting we need to import NumPy and Matplotlib and set some defaults\n",
    "import numpy as np\n",
    "import matplotlib.pyplot as plt\n",
    "# and set some parameters to make the figures look good\n",
    "plt.rcParams[\"figure.autolayout\"] = True # same as tight_layout after every plot\n",
    "plt.rcParams[\"figure.figsize\"] = (9, 3.5) # set default figure size\n",
    "plt.rcParams[\"contour.negative_linestyle\"] = 'solid' # set default line style\n",
    "plt.rc('font', size=12)"
   ]
  },
  {
   "cell_type": "markdown",
   "id": "d1c24fce-f9e7-4fff-8791-b5bf16341725",
   "metadata": {
    "tags": []
   },
   "source": [
    "# Solution 4. Flow to a pumping well on an island with infiltration"
   ]
  },
  {
   "cell_type": "markdown",
   "id": "f6494f9b-3132-4ada-b44f-c11d2664896f",
   "metadata": {},
   "source": [
    "Consider a pumping well with discharge $Q$ at the center of a circular island of radius $R$. The aquifer is unconfined with hydraulic conductivity $k$ and base elevation $z_b$. The water level is fixed at the edge of the island to $h_R$. The recharge on the island is uniform and equal to $N$. Note that the discharge $Q$ is positive when the well is pumping water out of the aquifer and the recharge $N$ is positive when water is entering the aquifer. "
   ]
  },
  {
   "cell_type": "markdown",
   "id": "5e6f6d22-9fb6-4537-8f2f-9a03938ad663",
   "metadata": {},
   "source": [
    "<img src=\"figs/merged_nbs6_17_0.png\" width=\"400px\">  "
   ]
  },
  {
   "cell_type": "markdown",
   "id": "daa8c9c6-fd37-422f-99c8-8c9a5a970d7e",
   "metadata": {},
   "source": [
    "The solution for the discharge potential is\n",
    "\\begin{equation}\n",
    "\\Phi = -\\frac{1}{4}N (r^2-R^2) + \\frac{Q}{4\\pi} \\ln{(r^2/R^2)}\n",
    "+\\Phi_R\n",
    "\\end{equation}\n",
    "where $\\Phi_R=\\tfrac{1}{2} k  (h_R - z_b)^2$\n",
    "\n",
    "The head in the aquifer is computed from the discharge potential as\n",
    "\\begin{equation}\n",
    "h = z_b + \\sqrt{\\frac{2\\Phi}{k}}\n",
    "\\end{equation}\n",
    "\n",
    "As a first example, the discharge of the well is half the total recharge on the island \n",
    "$Q = N \\pi R^2 / 2$. The head in the well is equal to the head at $r=r_w$, where $r_w$ is the radius of the well. "
   ]
  },
  {
   "cell_type": "code",
   "execution_count": null,
   "id": "81c741b0-5069-4113-9e3b-24c2519fb84d",
   "metadata": {},
   "outputs": [],
   "source": [
    "# parameters\n",
    "k = 5 # hydraulic conductivity, m/d\n",
    "zb = 0 # bottom elevation of aquifer, m\n",
    "N = 0.001 # areal recharge, m/d\n",
    "R = 200 # radius of the island, m\n",
    "hR = 10  # head at edge of island, m\n",
    "rw = 0.3 # well radius, m\n",
    "Q = 0.5 * N * np.pi * R ** 2  # discharge is half total recharge, m^3/d\n",
    "print(f'Discharge of well: {Q:.2f} m^3/d')"
   ]
  },
  {
   "cell_type": "code",
   "execution_count": null,
   "id": "11996e95-5e4e-472a-8122-ce601c62aa1e",
   "metadata": {},
   "outputs": [],
   "source": [
    "# solution\n",
    "r = np.linspace(rw, R, 100)\n",
    "phiR = 0.5 * k * (hR - zb) ** 2\n",
    "phi = -N / 4 * (r ** 2 - R ** 2) + Q / (4 * np.pi) * np.log(r ** 2 / R ** 2) + phiR\n",
    "h = zb + np.sqrt(2 * phi / k)\n",
    "# plot\n",
    "plt.plot(r, h, 'C0')\n",
    "plt.plot(-r, h, 'C0')\n",
    "plt.xlabel('radial distance (m)')\n",
    "plt.ylabel('head (m)')\n",
    "plt.xticks(np.arange(-200, 201, 50), np.abs(np.arange(-200, 201, 50))) # positive r ticks\n",
    "plt.grid()"
   ]
  },
  {
   "cell_type": "markdown",
   "id": "9697a9c2-ecf9-42e3-834a-e3c471abd583",
   "metadata": {},
   "source": [
    "## Exercise 6\n",
    "Compute the head in the well when the discharge is equal to half the total recharge on the island and when the discharge is equal to exactly the total recharge on the island. Plot the head vs. $r$ for both cases in one graph. Also include the case that $Q=0$. "
   ]
  },
  {
   "cell_type": "code",
   "execution_count": null,
   "id": "2aafeaf4-bde9-4368-836a-1ee08e606011",
   "metadata": {},
   "outputs": [],
   "source": []
  },
  {
   "cell_type": "markdown",
   "id": "df9c41dd-dbad-4545-b925-6a8343eaa677",
   "metadata": {},
   "source": [
    "## Exercise 7\n",
    "What is the (theoretically) maximum discharge of the well? What happens when you try to compute the head in the well when the discharge is larger than the maximum discharge?"
   ]
  },
  {
   "cell_type": "markdown",
   "id": "0cd2926d-2d49-463f-95f5-805429c05e53",
   "metadata": {},
   "source": [
    "Answer: "
   ]
  },
  {
   "cell_type": "markdown",
   "id": "ee2e0b9e-77b0-4413-a027-00ec51d6e379",
   "metadata": {},
   "source": [
    "# Solution 5. A pumping well near a river"
   ]
  },
  {
   "cell_type": "markdown",
   "id": "3966ca18-d059-44cf-a70a-51ead95a0cc0",
   "metadata": {},
   "source": [
    "A well is located near a long and straight river running North-South along the $y$-axis. The well is located on the left side of the river at $(x_w,y_w)$ and has a discharge $Q$ (see Figure). The river is in full hydraulic contact with the aquifer so that the head in the aquifer is equal to the river stage $h_0$ along the river. The aquifer is unconfined, but the variation of the saturated thickness is neglected: the transmissivity of the aquifer is approximated as constant and equal to $T$. Far away from the well, he head in the aquifer is relatively flat and equal to $h_0$. \n",
    "\n",
    "<img src=\"figs/wellriver.png\" width=\"350px\">\n",
    "\n",
    "The solution for the head and flow in the aquifer is obtained with the method of images as:\n",
    "\n",
    "\\begin{equation}\n",
    "h = \\frac{Q}{4\\pi T}\\ln\\left[\\frac{(x-x_w)^2 + (y-y_w)^2}{(x+x_w)^2 + (y-y_w)^2}\\right] + h_0\n",
    "\\end{equation}"
   ]
  },
  {
   "cell_type": "markdown",
   "id": "e39e11f8-e18d-4086-b992-98b2f4e1bd6a",
   "metadata": {},
   "source": [
    "\\begin{equation}\n",
    "Q_x = -T\\frac{\\partial h}{\\partial x} = -\\frac{Q}{2\\pi}\\left[\\frac{x-x_w}{(x-x_w)^2 + (y-y_w)^2} - \\frac{x+x_w}{(x+x_w)^2 + (y-y_w)^2} \\right]\n",
    "\\end{equation}\n",
    "\\begin{equation}\n",
    "Q_y = -T\\frac{\\partial h}{\\partial y} = -\\frac{Q}{2\\pi}\\left[\\frac{y-y_w}{(x-x_w)^2 + (y-y_w)^2} - \n",
    "\\frac{y-y_w}{(x+x_w)^2 + (y-y_w)^2} \\right]\n",
    "\\end{equation}"
   ]
  },
  {
   "cell_type": "code",
   "execution_count": null,
   "id": "332a59b3-bf05-4976-a4c8-93e3248f6cc8",
   "metadata": {},
   "outputs": [],
   "source": [
    "def head(x, y, xw, yw, Q, T, h0):\n",
    "    h = Q / (4 * np.pi * T) * np.log(\n",
    "    ((x - xw) ** 2 + (y - yw) ** 2) /\n",
    "    ((x + xw) ** 2 + (y - yw) ** 2)) + h0\n",
    "    return h\n",
    "\n",
    "def QxQy(x, y, xw, yw, Q):\n",
    "    r1sq = (x - xw) ** 2 + (y - yw) ** 2\n",
    "    r2sq = (x + xw) ** 2 + (y - yw) ** 2\n",
    "    Qx = -Q / (2 * np.pi) * ((x - xw) / r1sq - (x + xw) / r2sq)\n",
    "    Qy = -Q / (2 * np.pi) * ((y - yw) / r1sq - (y - yw) / r2sq)\n",
    "    return np.array([Qx, Qy])"
   ]
  },
  {
   "cell_type": "markdown",
   "id": "a0b6a846-d26b-4cca-9a72-4c22295044cd",
   "metadata": {},
   "source": [
    "An example is provided below."
   ]
  },
  {
   "cell_type": "code",
   "execution_count": null,
   "id": "2e70b91a-d2ab-47b3-8f39-6186bac1c18d",
   "metadata": {},
   "outputs": [],
   "source": [
    "# parameters\n",
    "k = 10 # hydraulic conductivity, m/d\n",
    "H = 20 # m\n",
    "xw = -50 # x-location of well, m\n",
    "yw = 0 # y-location of well, m\n",
    "Q = 800 # discharge of well, m^3/d\n",
    "rw = 0.3 # radius of well, m\n",
    "h0 = 20 # river level, m\n",
    "n = 0.3 # porosity, -\n",
    "T = k * H # transmissivity, m^2/d"
   ]
  },
  {
   "cell_type": "markdown",
   "id": "3eedd4dc-8dfc-4d3c-858a-8c7ce5b6296b",
   "metadata": {},
   "source": [
    "The head is computed on a grid of 100 by 100 points where $x$ varies from $-100$ to $100$ and $y$ varies from $-50$ to $+50$. "
   ]
  },
  {
   "cell_type": "code",
   "execution_count": null,
   "id": "8558e6f2-3cd0-4654-adf3-9a1cc91c067f",
   "metadata": {},
   "outputs": [],
   "source": [
    "xg, yg = np.meshgrid(np.linspace(-100, 0, 100), np.linspace(-50, 50, 100))\n",
    "h = head(xg, yg, xw, yw, Q, T, h0)\n",
    "print(f'min and max head in model window: {h.min():.1f} m, {h.max():.1f} m')"
   ]
  },
  {
   "cell_type": "markdown",
   "id": "e3cb1e38-0dba-40fa-be54-32e1bf309cf2",
   "metadata": {},
   "source": [
    "The head is contoured. First, a figure is created with the `subplot` command. The first argument is `121`, which means a figure with 1 row of graphs, 2 graphs, and start with graph 1 (the left graph; the rigth graph will be created in the next code block). The keyword `aspect=1` is important, as it makes the scale along the $x$ and $y$ axes equal, so that a circle looks like a circle rather than an ellipse.  The `contour` function returns a contour set, which is stored in the variable `cs`. Labels are placed along the contours by passing `cs` to the `clabel` function. The format of the labels is defined ast `'%1.1f'`, wich stands for a float with 1 decimal place."
   ]
  },
  {
   "cell_type": "code",
   "execution_count": null,
   "id": "1a1299ab-8143-4baf-ae8b-4d26628b7ee2",
   "metadata": {},
   "outputs": [],
   "source": [
    "plt.subplot(121, aspect=1)\n",
    "cs = plt.contour(xg, yg, h, levels=np.arange(15, 21, 0.2), colors='C0')\n",
    "plt.clabel(cs, fmt='%1.1f')\n",
    "plt.plot(xw, yw, 'k.')\n",
    "plt.axvline(0, color='skyblue', lw=8); # blue line for river"
   ]
  },
  {
   "cell_type": "markdown",
   "id": "8470f169-9ec2-4113-9577-0066458b04dc",
   "metadata": {},
   "source": [
    "The flow field is visualized using the `streamplot` function. First, $Q_x$ and $Q_y$ are computed on the same grid as usef for the head. Then the `streamplot` function is used; the `density` keyword is set to control the density of streampaths. "
   ]
  },
  {
   "cell_type": "code",
   "execution_count": null,
   "id": "828383f9-86ae-4b0b-9e39-ccb20f2c08e7",
   "metadata": {},
   "outputs": [],
   "source": [
    "Qx, Qy = QxQy(xg, yg, xw, yw, Q)\n",
    "plt.subplot(121, aspect=1)\n",
    "cs = plt.contour(xg, yg, h, np.arange(15, 21, 0.2), colors='C0')\n",
    "plt.clabel(cs, fmt='%1.1f')\n",
    "plt.plot(xw, yw, 'k.') # black dot at location of well\n",
    "plt.axvline(0, color='skyblue', lw=8); # blue line for river\n",
    "#\n",
    "plt.subplot(122, aspect=1)\n",
    "plt.streamplot(xg, yg, Qx, Qy, color='C1', density=0.9)\n",
    "plt.plot(xw, yw, 'k.')\n",
    "plt.axvline(0, color='skyblue', lw=8);"
   ]
  },
  {
   "cell_type": "markdown",
   "id": "169d39ab-d5a4-478b-b351-16a1a486a9d7",
   "metadata": {},
   "source": [
    "Alternatively, the `streamplot` function may be used to start a number of streamlines from specified starting points. In the code cell below, 20 starting points are defined, equally distributed along the circumference of the well, and integrated in the `backward` direction (i.e., against the flow). "
   ]
  },
  {
   "cell_type": "code",
   "execution_count": null,
   "id": "98b802b5-85de-48e0-94f9-f825bdfb91ef",
   "metadata": {},
   "outputs": [],
   "source": [
    "plt.subplot(111, aspect=1)\n",
    "xstart = xw + rw * np.cos(np.arange(0, 2 * np.pi, 2 * np.pi / 20))\n",
    "ystart = yw + rw * np.sin(np.arange(0, 2 * np.pi, 2 * np.pi / 20))\n",
    "plt.subplot(111, aspect=1)\n",
    "for i in range(20):\n",
    "    plt.streamplot(xg, yg, Qx, Qy, start_points=[(xstart[i], ystart[i])], \n",
    "                   integration_direction='backward')\n",
    "plt.plot(xw, yw, 'k.')\n",
    "plt.axvline(0, color='skyblue', lw=8);"
   ]
  },
  {
   "cell_type": "markdown",
   "id": "08e54756-0d53-4d83-8c55-2306736367cc",
   "metadata": {},
   "source": [
    "## Travel time from the river to the well\n",
    "The travel time may be computed through integration of the velocity vector along a streamline. This is somewhat complicated, as the strealine is curved. It is straighforward, however, for the straight streamline starting at $(x,y)=(0,0)$ (recall that $y_w=0$) on the river and flowing towards the well. This travel time represents the shortest travel time from the river to the well, which is important to assess the funerability of the well to possible contamination by pathogens in the river water.  \n",
    "\\begin{equation}\n",
    "v_x = \\frac{Q_x}{nH} = \\frac{\\text{d}x}{\\text{d}t}\n",
    "\\end{equation}\n",
    "\\begin{equation}\n",
    "t = \\int_{a}^{b}\\frac{\\text{d}x}{v_x}\n",
    "\\end{equation}\n",
    "The integral may computed numerically, for example use the `quad` function."
   ]
  },
  {
   "cell_type": "code",
   "execution_count": null,
   "id": "a107d741-7150-4aa1-ad63-7d80775a8012",
   "metadata": {},
   "outputs": [],
   "source": [
    "def integrand(x, y, xw, yw, Q, H=10, n=0.3):\n",
    "    Qx, Qy = QxQy(x, y, xw, yw, Q)\n",
    "    vx = Qx / (n * H)\n",
    "    return 1 / vx"
   ]
  },
  {
   "cell_type": "code",
   "execution_count": null,
   "id": "76cd1fe7-35db-4dd2-840c-020643b5ad26",
   "metadata": {},
   "outputs": [],
   "source": [
    "from scipy.integrate import quad\n",
    "traveltime = quad(integrand, a=0, b=xw + rw, args=(yw, xw, yw, Q))[0]\n",
    "print(f'shortest travel time from river to well: {traveltime:.1f} d')"
   ]
  },
  {
   "cell_type": "markdown",
   "id": "6e1f8962-e3a9-4936-90c9-ef9e50cf50e9",
   "metadata": {},
   "source": [
    "## Exercise 8\n",
    "Move the well farther away from the river such that the shortest travel time from the river to the well is at least 40 days. Print the new location of the well and the corresponding shortest travel time to the screen."
   ]
  },
  {
   "cell_type": "code",
   "execution_count": null,
   "id": "7bd8eb91-a538-488c-947e-0c961596107b",
   "metadata": {},
   "outputs": [],
   "source": []
  },
  {
   "cell_type": "markdown",
   "id": "5a87829a-ca02-46a6-b55f-a80094fd30aa",
   "metadata": {},
   "source": [
    "# Solution 6. A pumping well near a river in uniform background flow"
   ]
  },
  {
   "cell_type": "markdown",
   "id": "cbcfe1dd-72d9-4639-a881-f588f5434fcd",
   "metadata": {},
   "source": [
    "In virtually all aquifers, the natural groundwater flow is towards a stream, river, lake, or ocean. This flow is also called the background flow, as it is present prior to the installation of a well. The background flow may be estimated, e.g., from the heads in two observation wells. For example, the flow in the $x$-direction may be obtained from two obsevation wells aligned in the $x$-direction as\n",
    "\\begin{equation}\n",
    "U\\approx T\\frac{\\Delta h}{\\Delta x}\n",
    "\\end{equation}\n",
    "where $\\Delta h$ is the head drop between the observation wells and $\\Delta x$ is the distance between the two observation wells. \n",
    "\n",
    "Here, we are considering a pumping well near a long and straight river running North-South (as in the previous solution), but now with a uniform background flow in the $x$-direction, as shown in the Figure.\n",
    "\n",
    "<img src=\"figs/wellriveruflow.png\" width=\"350px\"> "
   ]
  },
  {
   "cell_type": "markdown",
   "id": "0b0a2bf9-24b9-4ca8-972c-6ea28995f924",
   "metadata": {},
   "source": [
    "The solution for the head in the aquifer is obtained from the previous solution by adding a uniform flow term in the $x$-direction. The solutions for the head and flow are\n",
    "\n",
    "\\begin{equation}\n",
    "h = \\frac{Q}{4\\pi T}\\ln\\left[\\frac{(x-x_w)^2 + (y-y_w)^2}{(x+x_w)^2 + (y-y_w)^2}\\right] \n",
    "-\\frac{U}{T}x + h_0\n",
    "\\end{equation}\n",
    "\n",
    "\\begin{equation}\n",
    "Q_x = -\\frac{Q}{2\\pi}\\left[\\frac{x-x_w}{(x-x_w)^2 + (y-y_w)^2} - \\frac{x+x_w}{(x+x_w)^2 + (y-y_w)^2} \\right] + U\n",
    "\\end{equation}\n",
    "\\begin{equation}\n",
    "Q_y = -\\frac{Q}{2\\pi}\\left[\\frac{y-y_w}{(x-x_w)^2 + (y-y_w)^2} - \n",
    "\\frac{y-y_w}{(x+x_w)^2 + (y-y_w)^2} \\right]\n",
    "\\end{equation}"
   ]
  },
  {
   "cell_type": "markdown",
   "id": "4563808b-1620-460a-a4c0-621703b88591",
   "metadata": {},
   "source": [
    "Consider a well in a uniform background flow near a river. The well is a bit farther from the river and has a somewhat smaller discharge than in the previous example."
   ]
  },
  {
   "cell_type": "code",
   "execution_count": null,
   "id": "609b16c6-be6d-4dae-ab04-50e278f74ac5",
   "metadata": {},
   "outputs": [],
   "source": [
    "# parameters\n",
    "k = 20 # hydraulic conductivity, m/d\n",
    "H = 10 # m\n",
    "xw = -200 # x-location of well, m\n",
    "yw = 0 # y-location of well, m\n",
    "Q = 200 # discharge of well, m^3/d\n",
    "rw = 0.3 # radius of well, m\n",
    "h0 = 20 # river level, m\n",
    "n = 0.3 # porosity, -\n",
    "T = k * H # transmissivity, m^2/d"
   ]
  },
  {
   "cell_type": "code",
   "execution_count": null,
   "id": "39caa114-8ebb-4eb8-8f23-bd1c1c338f2c",
   "metadata": {},
   "outputs": [],
   "source": [
    "# parameters uniform background flow\n",
    "delx = 1000 # distance between observation wells\n",
    "delh = 2 # head drop between observation wells\n",
    "U = T * delh / delx\n",
    "print(f'Uniform flow U = {U:.1f} m^2/d')"
   ]
  },
  {
   "cell_type": "code",
   "execution_count": null,
   "id": "45d042de-4d11-4e31-8062-d32a7263ceef",
   "metadata": {},
   "outputs": [],
   "source": [
    "def head(x, y, xw, yw, Q, T, h0, U=0):\n",
    "    h = Q / (4 * np.pi * T) * np.log(\n",
    "    ((x - xw) ** 2 + (y - yw) ** 2) /\n",
    "    ((x + xw) ** 2 + (y - yw) ** 2)) -U * x / T + h0\n",
    "    return h\n",
    "\n",
    "def QxQy(x, y, xw, yw, Q, U=0):\n",
    "    r1sq = (x - xw) ** 2 + (y - yw) ** 2\n",
    "    r2sq = (x + xw) ** 2 + (y - yw) ** 2\n",
    "    Qx = -Q / (2 * np.pi) * ((x - xw) / r1sq - (x + xw) / r2sq) + U\n",
    "    Qy = -Q / (2 * np.pi) * ((y - yw) / r1sq - (y - yw) / r2sq)\n",
    "    return Qx, Qy"
   ]
  },
  {
   "cell_type": "markdown",
   "id": "1a47e687-4942-4cb6-9d3e-0011edb5eb3f",
   "metadata": {},
   "source": [
    "The head is contoured and a streamplot is created. 20 streamlines are started from $x=-600$ m, equally distribute between $y=-30$ and $y=+30$."
   ]
  },
  {
   "cell_type": "code",
   "execution_count": null,
   "id": "709dbd87-45c2-4c4f-8593-e08b77a7e96b",
   "metadata": {},
   "outputs": [],
   "source": [
    "xg, yg = np.meshgrid(np.linspace(-600, 0, 100), np.linspace(-300, 300, 100))\n",
    "h = head(xg, yg, xw, yw, Q, T, h0, U)\n",
    "print(f'min and max head in window: {h.min():.1f} m, {h.max():.1f} m')\n",
    "Qx, Qy = QxQy(xg, yg, xw, yw, Q, U)"
   ]
  },
  {
   "cell_type": "code",
   "execution_count": null,
   "id": "bafc1b91-4b0b-4676-8dc7-75e15970c064",
   "metadata": {},
   "outputs": [],
   "source": [
    "plt.subplot(121, aspect=1)\n",
    "cs = plt.contour(xg, yg, h, np.arange(19, 22, 0.1), colors='C0')\n",
    "plt.clabel(cs, fmt='%1.1f')\n",
    "plt.plot(xw, yw, 'k.')\n",
    "plt.axvline(0, color='skyblue', lw=8)\n",
    "#\n",
    "plt.subplot(122, aspect=1)\n",
    "xstart = -600 * np.ones(20)\n",
    "ystart = np.linspace(-300, 300, 20)\n",
    "for i in range(20):\n",
    "    plt.streamplot(xg, yg, Qx, Qy, start_points=[(xstart[i], ystart[i])], \n",
    "                   integration_direction='forward')\n",
    "plt.plot(xw, yw, 'k.')\n",
    "plt.axvline(0, color='skyblue', lw=8);"
   ]
  },
  {
   "cell_type": "markdown",
   "id": "8ac9aded-2aaa-4615-af9b-40f032f6558d",
   "metadata": {},
   "source": [
    "There appears to be a stagnation point (a point with zero velocity) between the well and the river. This point may be found by setting $Q_x=0$ along the line $y=y_w$ and solving for $x$, which gives the location $x_s$ of the stagnation point:\n",
    "\\begin{equation}\n",
    "x_s = -\\sqrt{x_w^2 + \\frac{Qx_w}{\\pi U}}\n",
    "\\end{equation}\n",
    "Two streampath are started from the stagnation point, one just above the stagnation point and one just below the stagnation point. The streampaths are integrated `backward`, so against the flow. These two strealines bound the capture zone envelope, the area of the aquifer that is (eventually) captured by the well. Note that far upstream the width of the capture zone envelope is $W=Q/U$."
   ]
  },
  {
   "cell_type": "code",
   "execution_count": null,
   "id": "32e817ac-30d8-4ff0-b7d1-adc62fc2d157",
   "metadata": {},
   "outputs": [],
   "source": [
    "xs = -np.sqrt(xw ** 2 + Q * xw / (np.pi * U))\n",
    "plt.subplot(121, aspect=1)\n",
    "plt.contour(xg, yg, h, np.arange(19, 22, 0.1), colors='C0')\n",
    "for ystart in [0.1, -0.1]:\n",
    "    plt.streamplot(xg, yg, Qx, Qy, start_points=[(xs, ystart)], \n",
    "                   integration_direction='backward', color='k')\n",
    "plt.plot(xw, yw, 'k.')\n",
    "plt.axvline(0, color='skyblue', lw=8)\n",
    "print(f'width of capture zone envelope far upstream: {Q / U:.1f} m')"
   ]
  },
  {
   "cell_type": "markdown",
   "id": "28e29bed-0668-471f-8276-b88eac313b2d",
   "metadata": {},
   "source": [
    "### Exercise 9\n",
    "Consider a well located in a uniform flow field near a river running North-South, as in the previous example. Near the well is a contaminated area as shown in the figure below (run the code cell). For the current discharge of the well ($Q=200$ m$^3$/d), the well captures water from the contaminated area, as can be seen, e.g., by starting a streampath from the corner of the contaminated area. The discharge of the well must be decreased such that it doesn't capture water from the contaminated area. Determine and print to the screen the maximum discharge of the well such that the well doesn't capture water from the contaminated area."
   ]
  },
  {
   "cell_type": "code",
   "execution_count": null,
   "id": "1b623a74-aaaf-46af-81a1-50efee82f782",
   "metadata": {},
   "outputs": [],
   "source": [
    "# run this code cell to see the contaminated area\n",
    "plt.subplot(121, aspect=1)\n",
    "plt.plot(xw, yw, 'k.')\n",
    "plt.axvline(0, color='skyblue', lw=8)\n",
    "plt.fill([-300, -100, -100, -300], [100, 100, 300, 300], color='pink')\n",
    "plt.text(-200, 200, 'contaminated', ha='center', va='center', rotation=-45)\n",
    "plt.xlim(-600, 0)\n",
    "plt.ylim(-300, 300)\n",
    "plt.grid()"
   ]
  },
  {
   "cell_type": "code",
   "execution_count": null,
   "id": "893abd42-5059-4d76-b220-b4ddc29f3cad",
   "metadata": {},
   "outputs": [],
   "source": []
  }
 ],
 "metadata": {
  "kernelspec": {
   "display_name": "Python 3 (ipykernel)",
   "language": "python",
   "name": "python3"
  },
  "language_info": {
   "codemirror_mode": {
    "name": "ipython",
    "version": 3
   },
   "file_extension": ".py",
   "mimetype": "text/x-python",
   "name": "python",
   "nbconvert_exporter": "python",
   "pygments_lexer": "ipython3",
   "version": "3.10.9"
  }
 },
 "nbformat": 4,
 "nbformat_minor": 5
}
